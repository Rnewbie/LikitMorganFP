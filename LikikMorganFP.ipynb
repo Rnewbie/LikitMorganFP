{
 "metadata": {
  "name": "",
  "signature": "sha256:f1792efb68a7d7f90874a0fb8eeb179234b9001106dcf91fc526c8262b5c5723"
 },
 "nbformat": 3,
 "nbformat_minor": 0,
 "worksheets": [
  {
   "cells": [
    {
     "cell_type": "code",
     "collapsed": false,
     "input": [
      "from rdkit import Chem, DataStructs\n",
      "from rdkit.Chem import AllChem\n",
      "import numpy\n",
      "mols = Chem.SDMolSupplier(\"COX2.sdf\")\n",
      "fps = [AllChem.GetMorganFingerprintAsBitVect(m, 1) for m in mols]\n",
      "np_fps = []\n",
      "for fp in fps:\n",
      "  arr = numpy.zeros((1,))\n",
      "  DataStructs.ConvertToNumpyArray(fp, arr)\n",
      "  np_fps.append(arr)\n",
      "numpy.savetxt(\"MorganFingerPrint1.csv\", np_fps, delimiter=\",\")"
     ],
     "language": "python",
     "metadata": {},
     "outputs": [],
     "prompt_number": 1
    },
    {
     "cell_type": "code",
     "collapsed": false,
     "input": [],
     "language": "python",
     "metadata": {},
     "outputs": []
    }
   ],
   "metadata": {}
  }
 ]
}