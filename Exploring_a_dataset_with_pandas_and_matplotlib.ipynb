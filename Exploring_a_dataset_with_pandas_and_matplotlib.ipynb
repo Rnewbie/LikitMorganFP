{
 "metadata": {
  "name": "",
  "signature": "sha256:a1f75166aef95269e169fa63a9641f6589c23980a729daff1b7327ab319fda26"
 },
 "nbformat": 3,
 "nbformat_minor": 0,
 "worksheets": [
  {
   "cells": [
    {
     "cell_type": "code",
     "collapsed": false,
     "input": [
      "import numpy as np\n",
      "import scipy.stats as st\n",
      "import matplotlib.pyplot as plt\n",
      "%matplotlib inline"
     ],
     "language": "python",
     "metadata": {},
     "outputs": [],
     "prompt_number": 10
    },
    {
     "cell_type": "code",
     "collapsed": false,
     "input": [
      "pasterior = lambda n, h, q: ((n+1) *\n",
      "                             st.binom(n, q).pmf(h))"
     ],
     "language": "python",
     "metadata": {},
     "outputs": [],
     "prompt_number": 11
    },
    {
     "cell_type": "code",
     "collapsed": false,
     "input": [
      "n = 100\n",
      "h = 61\n",
      "q = np.linspace(0., 1., 1000)\n",
      "d = pasterior(n, h, q)"
     ],
     "language": "python",
     "metadata": {},
     "outputs": [],
     "prompt_number": 13
    },
    {
     "cell_type": "code",
     "collapsed": false,
     "input": [
      "plt.plot(q, d, '-k')\n",
      "plt.ylim(0, d.max()+1)"
     ],
     "language": "python",
     "metadata": {},
     "outputs": [
      {
       "metadata": {},
       "output_type": "pyout",
       "prompt_number": 14,
       "text": [
        "(0, 9.2387432590899063)"
       ]
      },
      {
       "metadata": {},
       "output_type": "display_data",
       "png": "[encoded data removed]",
       "text": [
        "<matplotlib.figure.Figure at 0x107c25950>"
       ]
      }
     ],
     "prompt_number": 14
    },
    {
     "cell_type": "code",
     "collapsed": false,
     "input": [
      "import os\n",
      "\n",
      "molname = []\n",
      "smiles = []\n",
      "\n",
      "folderpath = os.getcwd()\n",
      "textpath = folderpath + '/' + 'PAE.txt'\n",
      "openfile = open(textpath, 'r')\n",
      "\n",
      "for i in openfile:\n",
      "    readline = i.split('\\t')\n",
      "    molname.append(readline[1])\n",
      "    smiles.append(readline[0])\n",
      "\n",
      "moleculename = []\n",
      "for i in range(len(molname)):\n",
      "    a = molname[i]\n",
      "    b = a.rstrip('\\n')\n",
      "    moleculename.append(b)"
     ],
     "language": "python",
     "metadata": {},
     "outputs": [],
     "prompt_number": 17
    },
    {
     "cell_type": "code",
     "collapsed": false,
     "input": [
      "from rdkit import Chem\n",
      "from rdkit.Chem import AllChem\n",
      "\n",
      "for i in range(len(smiles)):\n",
      "    mol = Chem.MolFromSmiles(smiles[i])\n",
      "    Chem.Kekulize(mol)\n",
      "    Chem.MolToSmiles(mol,kekuleSmiles=True)\n",
      "    mol.SetProp(\"_Name\",molname[i])\n",
      "    AllChem.Compute2DCoords(mol)\n",
      "    Chem.AddHs(mol)\n",
      "    AllChem.EmbedMolecule(mol)\n",
      "    AllChem.UFFOptimizeMolecule(mol,maxIters=10000)\n",
      "    Chem.MolToMolFile(mol,filename=moleculename[i] + '.mol')"
     ],
     "language": "python",
     "metadata": {},
     "outputs": [],
     "prompt_number": 18
    },
    {
     "cell_type": "code",
     "collapsed": false,
     "input": [],
     "language": "python",
     "metadata": {},
     "outputs": []
    }
   ],
   "metadata": {}
  }
 ]
}